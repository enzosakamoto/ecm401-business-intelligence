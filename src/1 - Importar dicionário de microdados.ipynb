{
 "cells": [
  {
   "cell_type": "code",
   "execution_count": 19,
   "metadata": {},
   "outputs": [],
   "source": [
    "import pandas as pd\n",
    "import numpy as np\n",
    "from sqlalchemy import create_engine, text"
   ]
  },
  {
   "cell_type": "code",
   "execution_count": 20,
   "metadata": {},
   "outputs": [],
   "source": [
    "usuario = \"root\"\n",
    "senha = \"root\"\n",
    "url = \"localhost\"\n",
    "porta = \"3306\"\n",
    "banco = \"ENEM_OLTP\"\n",
    "\n",
    "# Criar uma conexão com o banco de dados MySQL\n",
    "engine = create_engine(f\"mysql+pymysql://{usuario}:{senha}@{url}:{porta}/{banco}\")"
   ]
  },
  {
   "cell_type": "code",
   "execution_count": 21,
   "metadata": {},
   "outputs": [
    {
     "name": "stdout",
     "output_type": "stream",
     "text": [
      "['TP_FAIXA_ETARIA', 'TP_SEXO', 'TP_ESTADO_CIVIL', 'TP_COR_RACA', 'TP_NACIONALIDADE', 'TP_ST_CONCLUSAO', 'TP_ANO_CONCLUIU', 'TP_ESCOLA', 'TP_ENSINO', 'IN_TREINEIRO', 'TP_PRESENCA_CN', 'TP_PRESENCA_CH', 'TP_PRESENCA_LC', 'TP_PRESENCA_MT', 'TP_LINGUA', 'TP_STATUS_REDACAO', 'Q001', 'Q002', 'Q003', 'Q004', 'Q005', 'Q006', 'Q007', 'Q008', 'Q009', 'Q010', 'Q011', 'Q012', 'Q013', 'Q014', 'Q015', 'Q016', 'Q017', 'Q018', 'Q019', 'Q020', 'Q021', 'Q022', 'Q023', 'Q024', 'Q025']\n"
     ]
    }
   ],
   "source": [
    "micro_dados = [\n",
    "    \"TP_FAIXA_ETARIA\",\n",
    "    \"TP_SEXO\",\n",
    "    \"TP_ESTADO_CIVIL\",\n",
    "    \"TP_COR_RACA\",\n",
    "    \"TP_NACIONALIDADE\",\n",
    "    \"TP_ST_CONCLUSAO\",\n",
    "    \"TP_ANO_CONCLUIU\",\n",
    "    \"TP_ESCOLA\",\n",
    "    \"TP_ENSINO\",\n",
    "    \"IN_TREINEIRO\",\n",
    "    \"TP_PRESENCA_CN\",\n",
    "    \"TP_PRESENCA_CH\",\n",
    "    \"TP_PRESENCA_LC\",\n",
    "    \"TP_PRESENCA_MT\",\n",
    "    \"TP_LINGUA\",\n",
    "    \"TP_STATUS_REDACAO\",\n",
    "] + [f\"Q{str(i).zfill(3)}\" for i in range(1, 26)]\n",
    "\n",
    "print(micro_dados)"
   ]
  },
  {
   "cell_type": "code",
   "execution_count": 22,
   "metadata": {},
   "outputs": [
    {
     "name": "stdout",
     "output_type": "stream",
     "text": [
      "Dados FAIXA_ETARIA inseridos com sucesso!\n",
      "Dados SEXO inseridos com sucesso!\n",
      "Dados ESTADO_CIVIL inseridos com sucesso!\n",
      "Dados COR_RACA inseridos com sucesso!\n",
      "Dados NACIONALIDADE inseridos com sucesso!\n",
      "Dados ST_CONCLUSAO inseridos com sucesso!\n",
      "Dados ANO_CONCLUIU inseridos com sucesso!\n",
      "Dados ESCOLA inseridos com sucesso!\n",
      "Dados ENSINO inseridos com sucesso!\n",
      "Dados TREINEIRO inseridos com sucesso!\n",
      "Dados PRESENCA_CN inseridos com sucesso!\n",
      "Dados PRESENCA_CH inseridos com sucesso!\n",
      "Dados PRESENCA_LC inseridos com sucesso!\n",
      "Dados PRESENCA_MT inseridos com sucesso!\n",
      "Dados LINGUA inseridos com sucesso!\n",
      "Dados STATUS_REDACAO inseridos com sucesso!\n",
      "Dados RESP_QUESTAO_1 inseridos com sucesso!\n",
      "Dados RESP_QUESTAO_2 inseridos com sucesso!\n",
      "Dados RESP_QUESTAO_3 inseridos com sucesso!\n",
      "Dados RESP_QUESTAO_4 inseridos com sucesso!\n",
      "Dados RESP_QUESTAO_5 inseridos com sucesso!\n",
      "Dados RESP_QUESTAO_6 inseridos com sucesso!\n",
      "Dados RESP_QUESTAO_7 inseridos com sucesso!\n",
      "Dados RESP_QUESTAO_8 inseridos com sucesso!\n",
      "Dados RESP_QUESTAO_9 inseridos com sucesso!\n",
      "Dados RESP_QUESTAO_10 inseridos com sucesso!\n",
      "Dados RESP_QUESTAO_11 inseridos com sucesso!\n",
      "Dados RESP_QUESTAO_12 inseridos com sucesso!\n",
      "Dados RESP_QUESTAO_13 inseridos com sucesso!\n",
      "Dados RESP_QUESTAO_14 inseridos com sucesso!\n",
      "Dados RESP_QUESTAO_15 inseridos com sucesso!\n",
      "Dados RESP_QUESTAO_16 inseridos com sucesso!\n",
      "Dados RESP_QUESTAO_17 inseridos com sucesso!\n",
      "Dados RESP_QUESTAO_18 inseridos com sucesso!\n",
      "Dados RESP_QUESTAO_19 inseridos com sucesso!\n",
      "Dados RESP_QUESTAO_20 inseridos com sucesso!\n",
      "Dados RESP_QUESTAO_21 inseridos com sucesso!\n",
      "Dados RESP_QUESTAO_22 inseridos com sucesso!\n",
      "Dados RESP_QUESTAO_23 inseridos com sucesso!\n",
      "Dados RESP_QUESTAO_24 inseridos com sucesso!\n",
      "Dados RESP_QUESTAO_25 inseridos com sucesso!\n"
     ]
    }
   ],
   "source": [
    "df_micro_dados = {\n",
    "    planilha: pd.read_excel(\n",
    "        f\"../datasets/Dicionario_Microdados_Enem_2023.xlsx\",\n",
    "        sheet_name=planilha,\n",
    "        header=0,\n",
    "    )\n",
    "    for planilha in micro_dados\n",
    "}\n",
    "\n",
    "for df in df_micro_dados:\n",
    "    with engine.connect() as connection:\n",
    "        connection.execute(text(f\"DROP TABLE IF EXISTS {df_micro_dados[df].columns[1]}\"))\n",
    "        df_micro_dados[df].to_sql(\n",
    "            df_micro_dados[df].columns[1], con=engine, if_exists=\"replace\", index=False\n",
    "        )\n",
    "        try:\n",
    "            connection.execute(\n",
    "                text(\n",
    "                    f\"\"\"\n",
    "                    ALTER TABLE {df_micro_dados[df].columns[1]}\n",
    "                    ADD PRIMARY KEY ({df_micro_dados[df].columns[0]})\n",
    "                    \"\"\"\n",
    "                )\n",
    "            )\n",
    "        except Exception as e:\n",
    "            connection.execute(\n",
    "                text(\n",
    "                    f\"\"\"\n",
    "                    ALTER TABLE {df_micro_dados[df].columns[1]}\n",
    "                    MODIFY COLUMN {df_micro_dados[df].columns[0]} CHAR(1)\n",
    "                    \"\"\"\n",
    "                )\n",
    "            )\n",
    "            connection.execute(\n",
    "                text(\n",
    "                    f\"\"\"\n",
    "                    ALTER TABLE {df_micro_dados[df].columns[1]}\n",
    "                    ADD PRIMARY KEY ({df_micro_dados[df].columns[0]})\n",
    "                    \"\"\"\n",
    "                )\n",
    "            )\n",
    "    print(f\"Dados {df_micro_dados[df].columns[1]} inseridos com sucesso!\")"
   ]
  }
 ],
 "metadata": {
  "kernelspec": {
   "display_name": ".venv",
   "language": "python",
   "name": "python3"
  },
  "language_info": {
   "codemirror_mode": {
    "name": "ipython",
    "version": 3
   },
   "file_extension": ".py",
   "mimetype": "text/x-python",
   "name": "python",
   "nbconvert_exporter": "python",
   "pygments_lexer": "ipython3",
   "version": "3.13.0"
  }
 },
 "nbformat": 4,
 "nbformat_minor": 2
}
