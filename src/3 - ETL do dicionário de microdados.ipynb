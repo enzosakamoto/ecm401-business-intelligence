{
 "cells": [
  {
   "cell_type": "markdown",
   "metadata": {},
   "source": [
    "# Importação das bibliotecas"
   ]
  },
  {
   "cell_type": "code",
   "execution_count": 1,
   "metadata": {},
   "outputs": [],
   "source": [
    "import pandas as pd\n",
    "import numpy as np\n",
    "from sqlalchemy import create_engine, text"
   ]
  },
  {
   "cell_type": "markdown",
   "metadata": {},
   "source": [
    "# Instância de conexão com o banco de dados"
   ]
  },
  {
   "cell_type": "code",
   "execution_count": 2,
   "metadata": {},
   "outputs": [],
   "source": [
    "usuario = \"root\"\n",
    "senha = \"root\"\n",
    "url = \"localhost\"\n",
    "porta = \"3306\"\n",
    "banco = \"ENEM_OLTP\"\n",
    "\n",
    "# Criar uma conexão com o banco de dados MySQL\n",
    "engine = create_engine(f\"mysql+pymysql://{usuario}:{senha}@{url}:{porta}/{banco}\")"
   ]
  },
  {
   "cell_type": "markdown",
   "metadata": {},
   "source": [
    "# Instância de conexão com o banco de dados DataMart"
   ]
  },
  {
   "cell_type": "code",
   "execution_count": 3,
   "metadata": {},
   "outputs": [],
   "source": [
    "usuario = \"root\"\n",
    "senha = \"root\"\n",
    "url = \"localhost\"\n",
    "porta = \"3306\"\n",
    "banco = \"ENEM_DM\"\n",
    "\n",
    "# Criar uma conexão com o banco de dados MySQL\n",
    "engine_dm = create_engine(f\"mysql+pymysql://{usuario}:{senha}@{url}:{porta}/{banco}\")"
   ]
  },
  {
   "cell_type": "markdown",
   "metadata": {},
   "source": [
    "# Mapeamento dos microdados"
   ]
  },
  {
   "cell_type": "code",
   "execution_count": 4,
   "metadata": {},
   "outputs": [],
   "source": [
    "micro_dados = [\n",
    "    \"FAIXA_ETARIA\",\n",
    "    \"SEXO\",\n",
    "    \"ESTADO_CIVIL\",\n",
    "    \"COR_RACA\",\n",
    "    \"NACIONALIDADE\",\n",
    "    \"ST_CONCLUSAO\",\n",
    "    \"ANO_CONCLUIU\",\n",
    "    \"ESCOLA\",\n",
    "    \"ENSINO\",\n",
    "    \"TREINEIRO\",\n",
    "    \"PRESENCA_CN\",\n",
    "    \"PRESENCA_CH\",\n",
    "    \"PRESENCA_LC\",\n",
    "    \"PRESENCA_MT\",\n",
    "    \"LINGUA\",\n",
    "    \"STATUS_REDACAO\",\n",
    "] + [f\"RESP_QUESTAO_{i}\" for i in range(1, 26)]"
   ]
  },
  {
   "cell_type": "markdown",
   "metadata": {},
   "source": [
    "# Criação das tabelas dimensões no DataMart"
   ]
  },
  {
   "cell_type": "code",
   "execution_count": 5,
   "metadata": {},
   "outputs": [
    {
     "name": "stdout",
     "output_type": "stream",
     "text": [
      "Dimensão FAIXA_ETARIA criada com sucesso! Total de registros: 20\n",
      "Dimensão SEXO criada com sucesso! Total de registros: 2\n",
      "Dimensão ESTADO_CIVIL criada com sucesso! Total de registros: 5\n",
      "Dimensão COR_RACA criada com sucesso! Total de registros: 7\n",
      "Dimensão NACIONALIDADE criada com sucesso! Total de registros: 5\n",
      "Dimensão ST_CONCLUSAO criada com sucesso! Total de registros: 4\n",
      "Dimensão ANO_CONCLUIU criada com sucesso! Total de registros: 18\n",
      "Dimensão ESCOLA criada com sucesso! Total de registros: 3\n",
      "Dimensão ENSINO criada com sucesso! Total de registros: 2\n",
      "Dimensão TREINEIRO criada com sucesso! Total de registros: 2\n",
      "Dimensão PRESENCA_CN criada com sucesso! Total de registros: 3\n",
      "Dimensão PRESENCA_CH criada com sucesso! Total de registros: 3\n",
      "Dimensão PRESENCA_LC criada com sucesso! Total de registros: 3\n",
      "Dimensão PRESENCA_MT criada com sucesso! Total de registros: 3\n",
      "Dimensão LINGUA criada com sucesso! Total de registros: 2\n",
      "Dimensão STATUS_REDACAO criada com sucesso! Total de registros: 8\n",
      "Dimensão RESP_QUESTAO_1 criada com sucesso! Total de registros: 8\n",
      "Dimensão RESP_QUESTAO_2 criada com sucesso! Total de registros: 8\n",
      "Dimensão RESP_QUESTAO_3 criada com sucesso! Total de registros: 6\n",
      "Dimensão RESP_QUESTAO_4 criada com sucesso! Total de registros: 6\n",
      "Dimensão RESP_QUESTAO_5 criada com sucesso! Total de registros: 20\n",
      "Dimensão RESP_QUESTAO_6 criada com sucesso! Total de registros: 17\n",
      "Dimensão RESP_QUESTAO_7 criada com sucesso! Total de registros: 4\n",
      "Dimensão RESP_QUESTAO_8 criada com sucesso! Total de registros: 5\n",
      "Dimensão RESP_QUESTAO_9 criada com sucesso! Total de registros: 5\n",
      "Dimensão RESP_QUESTAO_10 criada com sucesso! Total de registros: 5\n",
      "Dimensão RESP_QUESTAO_11 criada com sucesso! Total de registros: 5\n",
      "Dimensão RESP_QUESTAO_12 criada com sucesso! Total de registros: 5\n",
      "Dimensão RESP_QUESTAO_13 criada com sucesso! Total de registros: 5\n",
      "Dimensão RESP_QUESTAO_14 criada com sucesso! Total de registros: 5\n",
      "Dimensão RESP_QUESTAO_15 criada com sucesso! Total de registros: 5\n",
      "Dimensão RESP_QUESTAO_16 criada com sucesso! Total de registros: 5\n",
      "Dimensão RESP_QUESTAO_17 criada com sucesso! Total de registros: 5\n",
      "Dimensão RESP_QUESTAO_18 criada com sucesso! Total de registros: 2\n",
      "Dimensão RESP_QUESTAO_19 criada com sucesso! Total de registros: 5\n",
      "Dimensão RESP_QUESTAO_20 criada com sucesso! Total de registros: 2\n",
      "Dimensão RESP_QUESTAO_21 criada com sucesso! Total de registros: 2\n",
      "Dimensão RESP_QUESTAO_22 criada com sucesso! Total de registros: 5\n",
      "Dimensão RESP_QUESTAO_23 criada com sucesso! Total de registros: 2\n",
      "Dimensão RESP_QUESTAO_24 criada com sucesso! Total de registros: 5\n",
      "Dimensão RESP_QUESTAO_25 criada com sucesso! Total de registros: 2\n"
     ]
    }
   ],
   "source": [
    "for tabela in micro_dados:\n",
    "    query = f\"SELECT * FROM {tabela}\"\n",
    "    df = pd.read_sql(query, con=engine)\n",
    "\n",
    "    colunas = df.columns.tolist()\n",
    "\n",
    "    df[f\"SK_{tabela}\"] = np.arange(1, len(df) + 1)\n",
    "\n",
    "    df = df[[f\"SK_{tabela}\"] + colunas]\n",
    "\n",
    "    with engine_dm.connect() as connection:\n",
    "        connection.execute(text(f\"DROP TABLE IF EXISTS DIM_{tabela}\"))\n",
    "        df.to_sql(f\"DIM_{tabela}\", con=connection, index=False)\n",
    "        connection.execute(\n",
    "            text(\n",
    "                f\"\"\"\n",
    "                ALTER TABLE DIM_{tabela}\n",
    "                ADD PRIMARY KEY (SK_{tabela})\n",
    "                \"\"\"\n",
    "            )\n",
    "        )\n",
    "\n",
    "    print(f\"Dimensão {tabela} criada com sucesso! Total de registros: {len(df)}\")"
   ]
  },
  {
   "cell_type": "markdown",
   "metadata": {},
   "source": [
    "# Criação da tabela dimensão de tempo"
   ]
  },
  {
   "cell_type": "code",
   "execution_count": 4,
   "metadata": {},
   "outputs": [
    {
     "data": {
      "text/html": [
       "<div>\n",
       "<style scoped>\n",
       "    .dataframe tbody tr th:only-of-type {\n",
       "        vertical-align: middle;\n",
       "    }\n",
       "\n",
       "    .dataframe tbody tr th {\n",
       "        vertical-align: top;\n",
       "    }\n",
       "\n",
       "    .dataframe thead th {\n",
       "        text-align: right;\n",
       "    }\n",
       "</style>\n",
       "<table border=\"1\" class=\"dataframe\">\n",
       "  <thead>\n",
       "    <tr style=\"text-align: right;\">\n",
       "      <th></th>\n",
       "      <th>SK_TEMPO</th>\n",
       "      <th>ANO</th>\n",
       "    </tr>\n",
       "  </thead>\n",
       "  <tbody>\n",
       "    <tr>\n",
       "      <th>0</th>\n",
       "      <td>1</td>\n",
       "      <td>1998</td>\n",
       "    </tr>\n",
       "    <tr>\n",
       "      <th>1</th>\n",
       "      <td>2</td>\n",
       "      <td>1999</td>\n",
       "    </tr>\n",
       "    <tr>\n",
       "      <th>2</th>\n",
       "      <td>3</td>\n",
       "      <td>2000</td>\n",
       "    </tr>\n",
       "    <tr>\n",
       "      <th>3</th>\n",
       "      <td>4</td>\n",
       "      <td>2001</td>\n",
       "    </tr>\n",
       "    <tr>\n",
       "      <th>4</th>\n",
       "      <td>5</td>\n",
       "      <td>2002</td>\n",
       "    </tr>\n",
       "  </tbody>\n",
       "</table>\n",
       "</div>"
      ],
      "text/plain": [
       "   SK_TEMPO   ANO\n",
       "0         1  1998\n",
       "1         2  1999\n",
       "2         3  2000\n",
       "3         4  2001\n",
       "4         5  2002"
      ]
     },
     "metadata": {},
     "output_type": "display_data"
    }
   ],
   "source": [
    "df = pd.DataFrame()\n",
    "\n",
    "df[\"ANO\"] = np.arange(1998, 2030)\n",
    "df[\"SK_TEMPO\"] = np.arange(1, len(df) + 1)\n",
    "\n",
    "df = df[[\"SK_TEMPO\", \"ANO\"]]\n",
    "\n",
    "display(df.head())\n",
    "\n",
    "with engine_dm.connect() as connection:\n",
    "    connection.execute(text(f\"DROP TABLE IF EXISTS DIM_TEMPO\"))\n",
    "    df.to_sql(f\"DIM_TEMPO\", con=connection, index=False)\n",
    "    connection.execute(\n",
    "        text(\n",
    "          f\"\"\"\n",
    "          ALTER TABLE DIM_TEMPO\n",
    "          ADD PRIMARY KEY (SK_TEMPO)\n",
    "          \"\"\"\n",
    "        )\n",
    "    )\n",
    "\n",
    "print(f\"Dimensão DIM_TEMPO criada com sucesso! Total de registros: {len(df)}\")"
   ]
  }
 ],
 "metadata": {
  "kernelspec": {
   "display_name": ".venv",
   "language": "python",
   "name": "python3"
  },
  "language_info": {
   "codemirror_mode": {
    "name": "ipython",
    "version": 3
   },
   "file_extension": ".py",
   "mimetype": "text/x-python",
   "name": "python",
   "nbconvert_exporter": "python",
   "pygments_lexer": "ipython3",
   "version": "3.13.0"
  }
 },
 "nbformat": 4,
 "nbformat_minor": 2
}
